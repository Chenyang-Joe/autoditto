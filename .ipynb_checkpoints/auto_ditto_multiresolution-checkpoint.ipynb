{
 "cells": [
  {
   "cell_type": "code",
   "execution_count": 1,
   "id": "3d1469a8",
   "metadata": {},
   "outputs": [],
   "source": [
    "import numpy as np\n",
    "import igl\n",
    "import meshplot as mp\n",
    "from scipy.spatial.transform import Rotation\n",
    "import ipywidgets as iw\n",
    "import time\n",
    "\n",
    "import scipy\n",
    "import sksparse\n",
    "from sksparse.cholmod import cholesky\n",
    "from numba import jit"
   ]
  },
  {
   "cell_type": "code",
   "execution_count": 2,
   "id": "pharmaceutical-transsexual",
   "metadata": {},
   "outputs": [],
   "source": [
    "v, f = igl.read_triangle_mesh('data/bone_unify.obj')\n",
    "labels = np.load('data/bone.label.npy').astype(int)\n",
    "v -= v.min(axis=0)\n",
    "v /= v.max()"
   ]
  },
  {
   "cell_type": "code",
   "execution_count": 3,
   "id": "tight-course",
   "metadata": {},
   "outputs": [],
   "source": [
    "handle_vertex_positions = v.copy()\n",
    "pos_f_saver = np.zeros((labels.max() + 1, 6))\n",
    "def pos_f(s,x,y,z, α, β, γ):\n",
    "    slices = (labels==s)\n",
    "    r = Rotation.from_euler('xyz', [α, β, γ], degrees=True)\n",
    "    v_slice = v[slices] + np.array([[x,y,z]])\n",
    "    center = v_slice.mean(axis=0)\n",
    "    \n",
    "    handle_vertex_positions[slices] = r.apply(v_slice - center) + center\n",
    "    pos_f_saver[s - 1] = [x,y,z,α,β,γ] \n",
    "    \n",
    "    t0 = time.time()\n",
    "    v_deformed = pos_f.deformer(handle_vertex_positions)\n",
    "    p.update_object(vertices = v_deformed) # p is a global variable, defined later\n",
    "    t1 = time.time()\n",
    "    print('FPS', 1/(t1 - t0))\n",
    "pos_f.deformer = lambda x:x"
   ]
  },
  {
   "cell_type": "code",
   "execution_count": 4,
   "id": "stone-element",
   "metadata": {},
   "outputs": [],
   "source": [
    "def widgets_wrapper():\n",
    "    segment_widget = iw.Dropdown(options=np.arange(labels.max()) + 1)\n",
    "    translate_widget = {i:iw.FloatSlider(min=-1, max=1, value=0) \n",
    "                        for i in 'xyz'}\n",
    "    rotate_widget = {a:iw.FloatSlider(min=-90, max=90, value=0, step=1) \n",
    "                     for a in 'αβγ'}\n",
    "\n",
    "    def update_seg(*args):\n",
    "        (translate_widget['x'].value,translate_widget['y'].value,\n",
    "        translate_widget['z'].value,\n",
    "        rotate_widget['α'].value,rotate_widget['β'].value,\n",
    "        rotate_widget['γ'].value) = pos_f_saver[segment_widget.value-1] #一个动画同步函数？\n",
    "    segment_widget.observe(update_seg, 'value')\n",
    "    widgets_dict = dict(s=segment_widget)\n",
    "    widgets_dict.update(translate_widget)\n",
    "    widgets_dict.update(rotate_widget)\n",
    "    return widgets_dict"
   ]
  },
  {
   "cell_type": "markdown",
   "id": "dce9a0f9",
   "metadata": {},
   "source": [
    "# My functions"
   ]
  },
  {
   "cell_type": "code",
   "execution_count": 5,
   "id": "divine-variety",
   "metadata": {},
   "outputs": [],
   "source": [
    "# functions \n",
    "def generate_mask(v, f, labels):\n",
    "    hard_id = np.where(labels != 0)\n",
    "    major_mask = np.ones(labels.shape[0], dtype=bool)\n",
    "    major_mask[hard_id] = False\n",
    "    constraint_mask = np.zeros(labels.shape[0], dtype=bool)\n",
    "    constraint_mask[hard_id] = True\n",
    "    return major_mask, constraint_mask\n",
    "\n",
    "def generate_system_cholesky(v,f,major_mask,constraint_mask):\n",
    "    M = igl.massmatrix(v, f)\n",
    "    I = scipy.sparse.eye(M.shape[0], M.shape[1], \n",
    "        dtype=M.dtype, format='csc')\n",
    "    inv_M = scipy.sparse.linalg.spsolve(M, I) \n",
    "    L = igl.cotmatrix(v,f)\n",
    "\n",
    "    Linv_ML = L.T@inv_M@L\n",
    "    LHS_op = Linv_ML[major_mask][:,major_mask]    \n",
    "    LHS_op = LHS_op.asformat(\"csc\")\n",
    "    factor = sksparse.cholmod.cholesky(LHS_op)\n",
    "    RHS_op = -1 * Linv_ML[major_mask][:,constraint_mask]\n",
    "    return factor, RHS_op\n",
    "\n",
    "@jit(forceobj=True, looplift=True)\n",
    "# def do_soomth(v, factor, RHS_op, major_mask, constraint_mask):\n",
    "def do_soomth_cholesky(v):\n",
    "    constraint_v = v[constraint_mask,:]\n",
    "    RHS = RHS_op.dot(constraint_v)\n",
    "    #RHS = np.einsum('ij,jk', RHS_op, constraint_v)\n",
    "    v_new = factor(RHS)\n",
    "    v_smooth = v.copy()\n",
    "    v_smooth[major_mask,:] = v_new \n",
    "    return v_smooth\n",
    "\n",
    "def generate_origianl_frame(v, f, v_smooth):\n",
    "    # normal of each vertex\n",
    "    frame_01 = igl.per_vertex_normals(v_smooth, f)\n",
    "\n",
    "    # longest outgoing edges per vertex\n",
    "    num_v = v_smooth.shape[0]\n",
    "    frame_02_index = np.zeros(v.shape[0],dtype=int)\n",
    "    frame_02 = np.zeros(v.shape)\n",
    "\n",
    "    adj_list = igl.adjacency_list(f)\n",
    "    for i in range(num_v):\n",
    "        outgoing_edge = v_smooth[adj_list[i]]-v_smooth[i]\n",
    "        project_edge = np.cross(outgoing_edge, frame_01[i])\n",
    "        project_edge = np.cross(frame_01[i], project_edge)\n",
    "        project_length = np.linalg.norm(project_edge, axis = 1)\n",
    "        max_index = project_length.argmax()\n",
    "        frame_02_index[i] = adj_list[i][max_index]\n",
    "\n",
    "        frame_02[i] = project_edge[max_index]\n",
    "        frame_02[i] /= project_length.max()\n",
    "        \n",
    "    # cross product\n",
    "    frame_03 = np.cross(frame_01, frame_02)\n",
    "    \n",
    "    return frame_01, frame_02, frame_03, frame_02_index\n",
    "\n",
    "def generate_displace(v, v_diff, frame_01, frame_02, frame_03):\n",
    "    # v_diff to reference frame\n",
    "    num_v = v.shape[0]\n",
    "    v_diff_frame0 = np.zeros(v.shape)\n",
    "    for i in range(num_v):\n",
    "        v_diff_frame0[i] = np.array(\n",
    "            [np.dot(v_diff[i], frame_01[i]),\n",
    "            np.dot(v_diff[i], frame_02[i]),\n",
    "            np.dot(v_diff[i], frame_03[i])] \n",
    "            )\n",
    "    return v_diff_frame0\n",
    "\n",
    "@jit(forceobj=True, looplift=True)\n",
    "#def update_frame(v, f, v_smooth_1, frame_02_index):\n",
    "def update_frame(v_smooth_1):\n",
    "    num_v = v.shape[0]\n",
    "    frame_11 = igl.per_vertex_normals(v_smooth_1, f)\n",
    "\n",
    "    outgoing_edge = v_smooth_1[frame_02_index] - v_smooth_1\n",
    "    project_edge = np.cross(outgoing_edge, frame_11)\n",
    "    frame_12 = np.cross(frame_11, project_edge)\n",
    "\n",
    "    for i in range(num_v):\n",
    "        frame_12[i] /= np.linalg.norm(frame_12[i])\n",
    "\n",
    "    # cross product\n",
    "    frame_13 = np.cross(frame_11, frame_12)\n",
    "    return frame_11, frame_12, frame_13\n",
    "\n",
    "@jit(forceobj=True, looplift=True)\n",
    "#def new_displace(v, v_diff_frame0, frame_11, frame_12,frame_13):\n",
    "def new_displace(frame_11, frame_12,frame_13):\n",
    "    num_v = v.shape[0]\n",
    "    v_diff_1 = np.zeros(v.shape)\n",
    "    for i in range(num_v):\n",
    "        v_diff_1[i] = (v_diff_frame0[i,0]*frame_11[i] + \n",
    "                       v_diff_frame0[i,1]*frame_12[i]+ \n",
    "                       v_diff_frame0[i,2]*frame_13[i])\n",
    "\n",
    "    return v_diff_1"
   ]
  },
  {
   "cell_type": "markdown",
   "id": "5d6a695d",
   "metadata": {},
   "source": [
    "# Pre-computation"
   ]
  },
  {
   "cell_type": "code",
   "execution_count": 6,
   "id": "6c8174cb",
   "metadata": {},
   "outputs": [],
   "source": [
    "#pre-calculation\n",
    "\n",
    "# Set up constraint mask\n",
    "major_mask, constraint_mask = generate_mask(v,f,labels)\n",
    "\n",
    "# Build linear system for smooth\n",
    "factor, RHS_op = generate_system_cholesky(v,f,major_mask, constraint_mask)\n",
    "\n",
    "# Do initial smoothing\n",
    "# v_smooth = do_soomth(v, factor, RHS_op, major_mask, constraint_mask)\n",
    "v_smooth = do_soomth_cholesky(v)\n",
    "v_diff = v - v_smooth\n",
    "\n",
    "# Calculate initial frame\n",
    "frame_01, frame_02, frame_03, frame_02_index = generate_origianl_frame(v, f, v_smooth)\n",
    "\n",
    "# Calculate initial displacement\n",
    "v_diff_frame0 = generate_displace(v, v_diff, frame_01, frame_02, frame_03)"
   ]
  },
  {
   "cell_type": "markdown",
   "id": "c130ee81",
   "metadata": {},
   "source": [
    "# Realtime function"
   ]
  },
  {
   "cell_type": "code",
   "execution_count": 7,
   "id": "2cf4d5cf",
   "metadata": {},
   "outputs": [],
   "source": [
    "@jit(forceobj=True, looplift=True)\n",
    "def position_deformer(target_pos):\n",
    "    # update smooth\n",
    "    # v_smooth_1 = do_soomth(target_pos, factor, RHS_op, major_mask, constraint_mask)\n",
    "    v_smooth_1 = do_soomth_cholesky(target_pos)\n",
    "\n",
    "    # calculate new frame\n",
    "    #frame_11, frame_12, frame_13 = update_frame(v, f, v_smooth_1, frame_02_index)\n",
    "    frame_11, frame_12, frame_13 = update_frame(v_smooth_1)\n",
    "\n",
    "    \n",
    "    # Add the displacement\n",
    "    #v_diff_1 = new_displace(v, v_diff_frame0, frame_11, frame_12,frame_13)\n",
    "    v_diff_1 = new_displace(frame_11, frame_12,frame_13)\n",
    "\n",
    "    \n",
    "    return v_smooth_1 + v_diff_1\n",
    "\n",
    "\n",
    "pos_f.deformer = position_deformer\n"
   ]
  },
  {
   "cell_type": "code",
   "execution_count": 8,
   "id": "proprietary-prediction",
   "metadata": {},
   "outputs": [
    {
     "data": {
      "application/vnd.jupyter.widget-view+json": {
       "model_id": "550a2a0aa5a04fff9132a947aa8dc769",
       "version_major": 2,
       "version_minor": 0
      },
      "text/plain": [
       "Renderer(camera=PerspectiveCamera(children=(DirectionalLight(color='white', intensity=0.6, position=(0.3522617…"
      ]
     },
     "metadata": {},
     "output_type": "display_data"
    },
    {
     "data": {
      "application/vnd.jupyter.widget-view+json": {
       "model_id": "ed16d22e27184e6e96780b9f4b4d0170",
       "version_major": 2,
       "version_minor": 0
      },
      "text/plain": [
       "interactive(children=(Dropdown(description='s', options=(1, 2), value=1), FloatSlider(value=0.0, description='…"
      ]
     },
     "metadata": {},
     "output_type": "display_data"
    },
    {
     "data": {
      "text/plain": [
       "<function __main__.pos_f(s, x, y, z, α, β, γ)>"
      ]
     },
     "execution_count": 8,
     "metadata": {},
     "output_type": "execute_result"
    }
   ],
   "source": [
    "## Widget UI\n",
    "p = mp.plot(handle_vertex_positions, f, c=labels)\n",
    "iw.interact(pos_f,\n",
    "            **widgets_wrapper())"
   ]
  },
  {
   "cell_type": "code",
   "execution_count": null,
   "id": "285142b4-9f81-4e0f-9f45-86b45b9ad9ef",
   "metadata": {},
   "outputs": [],
   "source": []
  },
  {
   "cell_type": "code",
   "execution_count": null,
   "id": "9f790a62-b69a-47c7-a833-7cd9c293de88",
   "metadata": {},
   "outputs": [],
   "source": []
  },
  {
   "cell_type": "code",
   "execution_count": null,
   "id": "edb8bb8c-1481-41ea-8367-b8309e0dfc86",
   "metadata": {},
   "outputs": [],
   "source": []
  },
  {
   "cell_type": "code",
   "execution_count": null,
   "id": "78f29f29-b4dd-4c56-a00b-ec1bb5205266",
   "metadata": {},
   "outputs": [],
   "source": []
  }
 ],
 "metadata": {
  "kernelspec": {
   "display_name": "Python 3 (ipykernel)",
   "language": "python",
   "name": "python3"
  },
  "language_info": {
   "codemirror_mode": {
    "name": "ipython",
    "version": 3
   },
   "file_extension": ".py",
   "mimetype": "text/x-python",
   "name": "python",
   "nbconvert_exporter": "python",
   "pygments_lexer": "ipython3",
   "version": "3.9.21"
  }
 },
 "nbformat": 4,
 "nbformat_minor": 5
}
