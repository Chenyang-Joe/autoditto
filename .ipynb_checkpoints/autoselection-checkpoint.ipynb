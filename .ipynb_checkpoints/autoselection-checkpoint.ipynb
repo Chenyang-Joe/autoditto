{
 "cells": [
  {
   "cell_type": "code",
   "execution_count": 1,
   "id": "e5b87834-1088-449d-a8ea-5769751e48c4",
   "metadata": {},
   "outputs": [],
   "source": [
    "import numpy as np\n",
    "import igl\n",
    "import meshplot as mp\n",
    "import random"
   ]
  },
  {
   "cell_type": "code",
   "execution_count": 2,
   "id": "7168401b-ff6d-4482-ba67-14dc28ec8689",
   "metadata": {},
   "outputs": [],
   "source": [
    "# import model + display it\n",
    "v, f = igl.read_triangle_mesh('data/bone.obj')"
   ]
  },
  {
   "cell_type": "code",
   "execution_count": 3,
   "id": "58ac87b6-2c18-43e6-a144-ac45b65f3f32",
   "metadata": {},
   "outputs": [],
   "source": [
    "v -= v.min(axis=0)\n",
    "v /= v.max()"
   ]
  },
  {
   "cell_type": "code",
   "execution_count": 4,
   "id": "8371ea3c-464e-4130-992d-f39645981007",
   "metadata": {},
   "outputs": [
    {
     "data": {
      "application/vnd.jupyter.widget-view+json": {
       "model_id": "dd5c9a7f669d46b290e654f6daffbdb9",
       "version_major": 2,
       "version_minor": 0
      },
      "text/plain": [
       "Renderer(camera=PerspectiveCamera(children=(DirectionalLight(color='white', intensity=0.6, position=(0.3522617…"
      ]
     },
     "metadata": {},
     "output_type": "display_data"
    },
    {
     "data": {
      "text/plain": [
       "<meshplot.Viewer.Viewer at 0x12f21ebb0>"
      ]
     },
     "execution_count": 4,
     "metadata": {},
     "output_type": "execute_result"
    }
   ],
   "source": [
    "mp.plot(v, shading={\"point_size\": 0.03})"
   ]
  },
  {
   "cell_type": "code",
   "execution_count": 5,
   "id": "9baf4297-9eb8-454c-aa47-fb5f6aa7e342",
   "metadata": {},
   "outputs": [
    {
     "data": {
      "application/vnd.jupyter.widget-view+json": {
       "model_id": "3dd90b898e9d498ca8d27fd0eff2919f",
       "version_major": 2,
       "version_minor": 0
      },
      "text/plain": [
       "Renderer(camera=PerspectiveCamera(children=(DirectionalLight(color='white', intensity=0.6, position=(0.3522617…"
      ]
     },
     "metadata": {},
     "output_type": "display_data"
    },
    {
     "data": {
      "text/plain": [
       "2"
      ]
     },
     "execution_count": 5,
     "metadata": {},
     "output_type": "execute_result"
    }
   ],
   "source": [
    "# find the bounding box, draw the bounding box\n",
    "m = np.min(v, axis=0)\n",
    "ma = np.max(v, axis=0)\n",
    "\n",
    "# Corners of the bounding box\n",
    "v_box = np.array([[m[0], m[1], m[2]], [ma[0], m[1], m[2]], [ma[0], ma[1], m[2]], [m[0], ma[1], m[2]],\n",
    "                  [m[0], m[1], ma[2]], [ma[0], m[1], ma[2]], [ma[0], ma[1], ma[2]], [m[0], ma[1], ma[2]]])\n",
    "\n",
    "# Edges of the bounding box\n",
    "f_box = np.array([[0, 1], [1, 2], [2, 3], [3, 0], [4, 5], [5, 6], [6, 7], \n",
    "                  [7, 4], [0, 4], [1, 5], [2, 6], [7, 3]], dtype=np.int32)\n",
    "\n",
    "p = mp.plot(v, shading={\"point_size\": 0.03})\n",
    "\n",
    "\n",
    "\n",
    "p.add_edges(v_box, f_box, shading={\"line_color\": \"green\"});\n",
    "p.add_points(v_box, shading={\"point_size\": 0.1, \"point_color\": \"green\"})"
   ]
  },
  {
   "cell_type": "code",
   "execution_count": 6,
   "id": "61302ce4-383a-4885-9776-0f08a136662b",
   "metadata": {},
   "outputs": [
    {
     "data": {
      "application/vnd.jupyter.widget-view+json": {
       "model_id": "6786d8428a664c688d3bd0cb4deca0c1",
       "version_major": 2,
       "version_minor": 0
      },
      "text/plain": [
       "Renderer(camera=PerspectiveCamera(children=(DirectionalLight(color='white', intensity=0.6, position=(0.3522617…"
      ]
     },
     "metadata": {},
     "output_type": "display_data"
    },
    {
     "data": {
      "text/plain": [
       "<meshplot.Viewer.Viewer at 0x12f2585b0>"
      ]
     },
     "execution_count": 6,
     "metadata": {},
     "output_type": "execute_result"
    }
   ],
   "source": [
    "segments_recording = np.zeros(len(v), dtype=int)\n",
    "\n",
    "for i in range(len(v)):\n",
    "    item = v[i]\n",
    "    if item[1]< 0.5 :\n",
    "        segments_recording[i] = 1\n",
    "        \n",
    "mp.plot(v, c = segments_recording, shading={\"point_size\": 0.03})"
   ]
  },
  {
   "cell_type": "code",
   "execution_count": 7,
   "id": "b7b00ad7-2321-4177-b8db-9c176c043e5d",
   "metadata": {},
   "outputs": [],
   "source": [
    "Face_0 = np.array([0,1,2,3])\n",
    "Face_1 = np.array([4,5,6,7])\n",
    "Face_2 = np.array([0,1,5,4])\n",
    "Face_3 = np.array([1,2,5,6])\n",
    "Face_4 = np.array([2,3,6,7])\n",
    "Face_5 = np.array([0,3,7,4])"
   ]
  },
  {
   "cell_type": "code",
   "execution_count": 8,
   "id": "05687a43-e519-4b3a-bea7-3cbfbbe515a8",
   "metadata": {},
   "outputs": [
    {
     "data": {
      "application/vnd.jupyter.widget-view+json": {
       "model_id": "0259699f290243219f7ed6daf62c9ff6",
       "version_major": 2,
       "version_minor": 0
      },
      "text/plain": [
       "Renderer(camera=PerspectiveCamera(children=(DirectionalLight(color='white', intensity=0.6, position=(0.3522617…"
      ]
     },
     "metadata": {},
     "output_type": "display_data"
    },
    {
     "data": {
      "text/plain": [
       "4"
      ]
     },
     "execution_count": 8,
     "metadata": {},
     "output_type": "execute_result"
    }
   ],
   "source": [
    "# a function, given face, v_box, return the selected center and radius\n",
    "\n",
    "\n",
    "def find_circle(v_box, face):\n",
    "    face_vs = v_box[face]\n",
    "    print\n",
    "    m_f = np.min(face_vs, axis=0)\n",
    "    ma_f = np.max(face_vs, axis=0)\n",
    "\n",
    "\n",
    "    center = np.zeros(3)\n",
    "    radius = 1e+10\n",
    "    direction = np.zeros(3)\n",
    "    axis = 0\n",
    "    for i in range(3):\n",
    "        if m_f[i] == ma_f[i]:\n",
    "            center[i] = (ma_f[i]+m_f[i])/2\n",
    "            if center[i] > 0.5:\n",
    "                direction[i] = - 1\n",
    "            else:\n",
    "                direction[i] = 1\n",
    "            axis = i\n",
    "        else:\n",
    "            jiggle_1 = (random.random()-0.5)/10\n",
    "            center[i] = (ma_f[i]+m_f[i])/2 + jiggle_1\n",
    "            r1 = center[i] - m_f[i]\n",
    "            r2 = ma_f[i] - center[i]\n",
    "            jiggle_2 = random.random()/50\n",
    "            radius = min(radius, min(r1, r2)) - jiggle_2\n",
    "\n",
    "        \n",
    "    return center, radius, direction, axis\n",
    "\n",
    "\n",
    "def generate_circle_3d(center, radius, direction, num_points=100):\n",
    "    direction = np.array(direction)\n",
    "    direction = direction / np.linalg.norm(direction)  # normalize\n",
    "\n",
    "    # Find two orthogonal vectors perpendicular to direction\n",
    "    if np.allclose(direction, [0, 0, 1]):\n",
    "        v1 = np.array([1, 0, 0])\n",
    "    else:\n",
    "        v1 = np.cross(direction, [0, 0, 1])\n",
    "        v1 = v1 / np.linalg.norm(v1)\n",
    "    \n",
    "    v2 = np.cross(direction, v1)\n",
    "    \n",
    "    angles = np.linspace(0, 2 * np.pi, num_points, endpoint=False)\n",
    "    circle_points = [\n",
    "        center + radius * (np.cos(theta) * v1 + np.sin(theta) * v2)\n",
    "        for theta in angles\n",
    "    ]\n",
    "    return np.array(circle_points)\n",
    "\n",
    "center, radius, direction, axis = find_circle(v_box, Face_0)\n",
    "\n",
    "\n",
    "p = mp.plot(v, shading={\"point_size\": 0.03})\n",
    "p.add_edges(v_box, f_box, shading={\"line_color\": \"green\"});\n",
    "p.add_points(v_box, shading={\"point_size\": 0.1, \"point_color\": \"green\"})\n",
    "p.add_points(points=np.array([center]), shading={\"point_size\": 0.1, \"point_color\": \"green\"})\n",
    "\n",
    "circle_points = generate_circle_3d(center, radius, direction, num_points=100)\n",
    "p.add_points(circle_points, shading={\"point_size\": 0.1, \"point_color\": \"green\"})\n"
   ]
  },
  {
   "cell_type": "code",
   "execution_count": 9,
   "id": "21716c29-8e7e-4d34-aef4-52ba5b671e24",
   "metadata": {},
   "outputs": [
    {
     "data": {
      "application/vnd.jupyter.widget-view+json": {
       "model_id": "8d72384272a54cd2a2a1443cb2f3ba27",
       "version_major": 2,
       "version_minor": 0
      },
      "text/plain": [
       "Renderer(camera=PerspectiveCamera(children=(DirectionalLight(color='white', intensity=0.6, position=(0.3522617…"
      ]
     },
     "metadata": {},
     "output_type": "display_data"
    },
    {
     "data": {
      "text/plain": [
       "1"
      ]
     },
     "execution_count": 9,
     "metadata": {},
     "output_type": "execute_result"
    }
   ],
   "source": [
    "# a function, given center, radius, direction, return an array of points to occupy the circle\n",
    "\n",
    "def circle_points(center, radius, direction, axis, resolution = 10):\n",
    "    current_axis = 0\n",
    "    circle_range = np.zeros((2, resolution))\n",
    "    for i in range(3):\n",
    "        if i != axis:\n",
    "            circle_range[current_axis] = np.linspace(center[current_axis]-radius, center[current_axis]+radius, resolution)\n",
    "        current_axis += 1\n",
    "\n",
    "    result = []\n",
    "    for cord_0 in circle_range[0]:\n",
    "        for cord_1 in circle_range[1]:\n",
    "            cord = np.array([cord_0, cord_1])\n",
    "            cord = np.insert(cord, axis, 0)\n",
    "            if np.linalg.norm(cord - center) < radius:\n",
    "                result.append(cord)\n",
    "    return np.array(result)\n",
    "                \n",
    "\n",
    "        \n",
    "points = circle_points(center, radius, direction, axis, 100)\n",
    "p = mp.plot(v, f,shading={\"point_size\": 0.03})\n",
    "p.add_points(points, shading={\"point_size\": 0.01, \"point_color\": \"green\"})\n",
    "\n"
   ]
  },
  {
   "cell_type": "code",
   "execution_count": 15,
   "id": "93087682-5097-4b67-9c92-78cfb621f2c4",
   "metadata": {},
   "outputs": [
    {
     "data": {
      "application/vnd.jupyter.widget-view+json": {
       "model_id": "b48525c848a040d7baf4f1b27c6ee1da",
       "version_major": 2,
       "version_minor": 0
      },
      "text/plain": [
       "Renderer(camera=PerspectiveCamera(children=(DirectionalLight(color='white', intensity=0.6, position=(0.3522617…"
      ]
     },
     "metadata": {},
     "output_type": "display_data"
    },
    {
     "data": {
      "text/plain": [
       "1"
      ]
     },
     "execution_count": 15,
     "metadata": {},
     "output_type": "execute_result"
    }
   ],
   "source": [
    "p = mp.plot(v, shading={\"point_size\": 0.03})\n",
    "\n",
    "points = circle_points(center, radius, direction, axis, 10)\n",
    "p.add_points(points, shading={\"point_size\": 0.1, \"point_color\": \"green\"})\n",
    "\n",
    "\n",
    "# result = igl.ray_mesh_intersect(points[0], direction, v, f)\n",
    "# p.add_points(np.array([points[0]+direction*result[0][-1]]), shading={\"point_size\": 0.1, \"point_color\": \"green\"})\n",
    "# result = igl.ray_mesh_intersect(points[1], direction, v, f)\n",
    "# p.add_points(np.array([points[1]+direction*result[0][-1]]), shading={\"point_size\": 0.1, \"point_color\": \"green\"})\n",
    "\n",
    "# for point in points:\n",
    "#     source = point\n",
    "    # result = igl.ray_mesh_intersect(source, direction, v, f)\n",
    "    # p.add_points(np.array([source+direction*result[0][-1]]), shading={\"point_size\": 0.1, \"point_color\": \"green\"})\n",
    "\n",
    "    \n"
   ]
  },
  {
   "cell_type": "code",
   "execution_count": null,
   "id": "ccd30f82-5cd3-4751-a9fb-6cc28c9cf633",
   "metadata": {},
   "outputs": [],
   "source": [
    "# result = igl.ray_mesh_intersect(points[1], direction, v, f)\n",
    "# p.add_points(np.array([points[1]+direction*result[0][-1]]), shading={\"point_size\": 0.1, \"point_color\": \"green\"})"
   ]
  },
  {
   "cell_type": "code",
   "execution_count": null,
   "id": "1cb3c620-d14d-4de0-91d6-ab932460fc30",
   "metadata": {},
   "outputs": [],
   "source": []
  },
  {
   "cell_type": "code",
   "execution_count": null,
   "id": "08d5e60a-ac12-4597-9f03-1f61136a22d5",
   "metadata": {},
   "outputs": [],
   "source": []
  },
  {
   "cell_type": "code",
   "execution_count": null,
   "id": "5826e3ae-940d-4dc0-adb2-4cf09e4658e8",
   "metadata": {},
   "outputs": [],
   "source": []
  },
  {
   "cell_type": "code",
   "execution_count": null,
   "id": "06dc81d4-0a1a-405a-96d5-ad14e21f019b",
   "metadata": {},
   "outputs": [],
   "source": []
  },
  {
   "cell_type": "code",
   "execution_count": 11,
   "id": "84f9aac2-bdaa-402f-afe4-80637cafbbe4",
   "metadata": {},
   "outputs": [
    {
     "data": {
      "application/vnd.jupyter.widget-view+json": {
       "model_id": "be98c367d7d94f8592c904c4ce60563b",
       "version_major": 2,
       "version_minor": 0
      },
      "text/plain": [
       "Renderer(camera=PerspectiveCamera(children=(DirectionalLight(color='white', intensity=0.6, position=(0.3522617…"
      ]
     },
     "metadata": {},
     "output_type": "display_data"
    },
    {
     "ename": "ValueError",
     "evalue": "zero-size array to reduction operation minimum which has no identity",
     "output_type": "error",
     "traceback": [
      "\u001b[0;31m---------------------------------------------------------------------------\u001b[0m",
      "\u001b[0;31mValueError\u001b[0m                                Traceback (most recent call last)",
      "Cell \u001b[0;32mIn[11], line 14\u001b[0m\n\u001b[1;32m     11\u001b[0m \u001b[38;5;66;03m# p = mp.plot(v, shading={\"point_size\": 0.03})\u001b[39;00m\n\u001b[1;32m     12\u001b[0m p \u001b[38;5;241m=\u001b[39m mp\u001b[38;5;241m.\u001b[39mplot(v, f, shading\u001b[38;5;241m=\u001b[39m{\u001b[38;5;124m\"\u001b[39m\u001b[38;5;124mpoint_size\u001b[39m\u001b[38;5;124m\"\u001b[39m: \u001b[38;5;241m0.03\u001b[39m})\n\u001b[0;32m---> 14\u001b[0m \u001b[43mp\u001b[49m\u001b[38;5;241;43m.\u001b[39;49m\u001b[43madd_points\u001b[49m\u001b[43m(\u001b[49m\u001b[43mpoints\u001b[49m\u001b[43m,\u001b[49m\u001b[43m \u001b[49m\u001b[43mshading\u001b[49m\u001b[38;5;241;43m=\u001b[39;49m\u001b[43m{\u001b[49m\u001b[38;5;124;43m\"\u001b[39;49m\u001b[38;5;124;43mpoint_size\u001b[39;49m\u001b[38;5;124;43m\"\u001b[39;49m\u001b[43m:\u001b[49m\u001b[43m \u001b[49m\u001b[38;5;241;43m0.1\u001b[39;49m\u001b[43m,\u001b[49m\u001b[43m \u001b[49m\u001b[38;5;124;43m\"\u001b[39;49m\u001b[38;5;124;43mpoint_color\u001b[39;49m\u001b[38;5;124;43m\"\u001b[39;49m\u001b[43m:\u001b[49m\u001b[43m \u001b[49m\u001b[38;5;124;43m\"\u001b[39;49m\u001b[38;5;124;43mgreen\u001b[39;49m\u001b[38;5;124;43m\"\u001b[39;49m\u001b[43m}\u001b[49m\u001b[43m)\u001b[49m\n",
      "File \u001b[0;32m/usr/local/lib/python3.9/site-packages/meshplot/Viewer.py:330\u001b[0m, in \u001b[0;36mViewer.add_points\u001b[0;34m(self, points, c, shading, obj, **kwargs)\u001b[0m\n\u001b[1;32m    328\u001b[0m sh \u001b[38;5;241m=\u001b[39m \u001b[38;5;28mself\u001b[39m\u001b[38;5;241m.\u001b[39m__get_shading(shading)\n\u001b[1;32m    329\u001b[0m points \u001b[38;5;241m=\u001b[39m points\u001b[38;5;241m.\u001b[39mastype(\u001b[38;5;124m\"\u001b[39m\u001b[38;5;124mfloat32\u001b[39m\u001b[38;5;124m\"\u001b[39m, copy\u001b[38;5;241m=\u001b[39m\u001b[38;5;28;01mFalse\u001b[39;00m)\n\u001b[0;32m--> 330\u001b[0m mi \u001b[38;5;241m=\u001b[39m \u001b[43mnp\u001b[49m\u001b[38;5;241;43m.\u001b[39;49m\u001b[43mmin\u001b[49m\u001b[43m(\u001b[49m\u001b[43mpoints\u001b[49m\u001b[43m,\u001b[49m\u001b[43m \u001b[49m\u001b[43maxis\u001b[49m\u001b[38;5;241;43m=\u001b[39;49m\u001b[38;5;241;43m0\u001b[39;49m\u001b[43m)\u001b[49m\n\u001b[1;32m    331\u001b[0m ma \u001b[38;5;241m=\u001b[39m np\u001b[38;5;241m.\u001b[39mmax(points, axis\u001b[38;5;241m=\u001b[39m\u001b[38;5;241m0\u001b[39m)\n\u001b[1;32m    333\u001b[0m g_attributes \u001b[38;5;241m=\u001b[39m {\u001b[38;5;124m\"\u001b[39m\u001b[38;5;124mposition\u001b[39m\u001b[38;5;124m\"\u001b[39m: p3s\u001b[38;5;241m.\u001b[39mBufferAttribute(points, normalized\u001b[38;5;241m=\u001b[39m\u001b[38;5;28;01mFalse\u001b[39;00m)}\n",
      "File \u001b[0;32m/usr/local/lib/python3.9/site-packages/numpy/core/fromnumeric.py:2953\u001b[0m, in \u001b[0;36mmin\u001b[0;34m(a, axis, out, keepdims, initial, where)\u001b[0m\n\u001b[1;32m   2836\u001b[0m \u001b[38;5;129m@array_function_dispatch\u001b[39m(_min_dispatcher)\n\u001b[1;32m   2837\u001b[0m \u001b[38;5;28;01mdef\u001b[39;00m \u001b[38;5;21mmin\u001b[39m(a, axis\u001b[38;5;241m=\u001b[39m\u001b[38;5;28;01mNone\u001b[39;00m, out\u001b[38;5;241m=\u001b[39m\u001b[38;5;28;01mNone\u001b[39;00m, keepdims\u001b[38;5;241m=\u001b[39mnp\u001b[38;5;241m.\u001b[39m_NoValue, initial\u001b[38;5;241m=\u001b[39mnp\u001b[38;5;241m.\u001b[39m_NoValue,\n\u001b[1;32m   2838\u001b[0m         where\u001b[38;5;241m=\u001b[39mnp\u001b[38;5;241m.\u001b[39m_NoValue):\n\u001b[1;32m   2839\u001b[0m \u001b[38;5;250m    \u001b[39m\u001b[38;5;124;03m\"\"\"\u001b[39;00m\n\u001b[1;32m   2840\u001b[0m \u001b[38;5;124;03m    Return the minimum of an array or minimum along an axis.\u001b[39;00m\n\u001b[1;32m   2841\u001b[0m \n\u001b[0;32m   (...)\u001b[0m\n\u001b[1;32m   2951\u001b[0m \u001b[38;5;124;03m    6\u001b[39;00m\n\u001b[1;32m   2952\u001b[0m \u001b[38;5;124;03m    \"\"\"\u001b[39;00m\n\u001b[0;32m-> 2953\u001b[0m     \u001b[38;5;28;01mreturn\u001b[39;00m \u001b[43m_wrapreduction\u001b[49m\u001b[43m(\u001b[49m\u001b[43ma\u001b[49m\u001b[43m,\u001b[49m\u001b[43m \u001b[49m\u001b[43mnp\u001b[49m\u001b[38;5;241;43m.\u001b[39;49m\u001b[43mminimum\u001b[49m\u001b[43m,\u001b[49m\u001b[43m \u001b[49m\u001b[38;5;124;43m'\u001b[39;49m\u001b[38;5;124;43mmin\u001b[39;49m\u001b[38;5;124;43m'\u001b[39;49m\u001b[43m,\u001b[49m\u001b[43m \u001b[49m\u001b[43maxis\u001b[49m\u001b[43m,\u001b[49m\u001b[43m \u001b[49m\u001b[38;5;28;43;01mNone\u001b[39;49;00m\u001b[43m,\u001b[49m\u001b[43m \u001b[49m\u001b[43mout\u001b[49m\u001b[43m,\u001b[49m\n\u001b[1;32m   2954\u001b[0m \u001b[43m                          \u001b[49m\u001b[43mkeepdims\u001b[49m\u001b[38;5;241;43m=\u001b[39;49m\u001b[43mkeepdims\u001b[49m\u001b[43m,\u001b[49m\u001b[43m \u001b[49m\u001b[43minitial\u001b[49m\u001b[38;5;241;43m=\u001b[39;49m\u001b[43minitial\u001b[49m\u001b[43m,\u001b[49m\u001b[43m \u001b[49m\u001b[43mwhere\u001b[49m\u001b[38;5;241;43m=\u001b[39;49m\u001b[43mwhere\u001b[49m\u001b[43m)\u001b[49m\n",
      "File \u001b[0;32m/usr/local/lib/python3.9/site-packages/numpy/core/fromnumeric.py:88\u001b[0m, in \u001b[0;36m_wrapreduction\u001b[0;34m(obj, ufunc, method, axis, dtype, out, **kwargs)\u001b[0m\n\u001b[1;32m     85\u001b[0m         \u001b[38;5;28;01melse\u001b[39;00m:\n\u001b[1;32m     86\u001b[0m             \u001b[38;5;28;01mreturn\u001b[39;00m reduction(axis\u001b[38;5;241m=\u001b[39maxis, out\u001b[38;5;241m=\u001b[39mout, \u001b[38;5;241m*\u001b[39m\u001b[38;5;241m*\u001b[39mpasskwargs)\n\u001b[0;32m---> 88\u001b[0m \u001b[38;5;28;01mreturn\u001b[39;00m \u001b[43mufunc\u001b[49m\u001b[38;5;241;43m.\u001b[39;49m\u001b[43mreduce\u001b[49m\u001b[43m(\u001b[49m\u001b[43mobj\u001b[49m\u001b[43m,\u001b[49m\u001b[43m \u001b[49m\u001b[43maxis\u001b[49m\u001b[43m,\u001b[49m\u001b[43m \u001b[49m\u001b[43mdtype\u001b[49m\u001b[43m,\u001b[49m\u001b[43m \u001b[49m\u001b[43mout\u001b[49m\u001b[43m,\u001b[49m\u001b[43m \u001b[49m\u001b[38;5;241;43m*\u001b[39;49m\u001b[38;5;241;43m*\u001b[39;49m\u001b[43mpasskwargs\u001b[49m\u001b[43m)\u001b[49m\n",
      "\u001b[0;31mValueError\u001b[0m: zero-size array to reduction operation minimum which has no identity"
     ]
    }
   ],
   "source": [
    "source = np.array([0, 0, 0], dtype = float)\n",
    "direction = np.array([0, 0, 1], dtype = float)\n",
    "result = igl.ray_mesh_intersect(source, direction, v, f)\n",
    "\n",
    "points = []\n",
    "for item in result:\n",
    "    points.append(source+direction*item[-1])\n",
    "\n",
    "points = np.array(points)\n",
    "\n",
    "# p = mp.plot(v, shading={\"point_size\": 0.03})\n",
    "p = mp.plot(v, f, shading={\"point_size\": 0.03})\n",
    "\n",
    "p.add_points(points, shading={\"point_size\": 0.1, \"point_color\": \"green\"})\n"
   ]
  },
  {
   "cell_type": "code",
   "execution_count": null,
   "id": "0dbe2ace-aed1-441e-b893-bc082aa545f7",
   "metadata": {},
   "outputs": [],
   "source": []
  }
 ],
 "metadata": {
  "kernelspec": {
   "display_name": "Python 3 (ipykernel)",
   "language": "python",
   "name": "python3"
  },
  "language_info": {
   "codemirror_mode": {
    "name": "ipython",
    "version": 3
   },
   "file_extension": ".py",
   "mimetype": "text/x-python",
   "name": "python",
   "nbconvert_exporter": "python",
   "pygments_lexer": "ipython3",
   "version": "3.9.21"
  }
 },
 "nbformat": 4,
 "nbformat_minor": 5
}
