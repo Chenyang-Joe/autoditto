{
 "cells": [
  {
   "cell_type": "code",
   "execution_count": 1,
   "id": "3d1469a8",
   "metadata": {},
   "outputs": [],
   "source": [
    "import numpy as np\n",
    "import igl\n",
    "import meshplot as mp\n",
    "from scipy.spatial.transform import Rotation\n",
    "import ipywidgets as iw\n",
    "import time\n",
    "\n",
    "import scipy\n",
    "import sksparse\n",
    "from sksparse.cholmod import cholesky\n",
    "from numba import jit\n",
    "\n",
    "import scipy.sparse as sp\n"
   ]
  },
  {
   "cell_type": "code",
   "execution_count": 2,
   "id": "pharmaceutical-transsexual",
   "metadata": {},
   "outputs": [],
   "source": [
    "v, f = igl.read_triangle_mesh('data/bone_unify.obj')\n",
    "labels = np.load('data/bone.label.npy').astype(int)\n",
    "v -= v.min(axis=0)\n",
    "v /= v.max()"
   ]
  },
  {
   "cell_type": "code",
   "execution_count": 3,
   "id": "tight-course",
   "metadata": {},
   "outputs": [],
   "source": [
    "handle_vertex_positions = v.copy()\n",
    "pos_f_saver = np.zeros((labels.max() + 1, 6))\n",
    "def pos_f(s,x,y,z, α, β, γ):\n",
    "    slices = (labels==s)\n",
    "    r = Rotation.from_euler('xyz', [α, β, γ], degrees=True)\n",
    "    v_slice = v[slices] + np.array([[x,y,z]])\n",
    "    center = v_slice.mean(axis=0)\n",
    "    \n",
    "    handle_vertex_positions[slices] = r.apply(v_slice - center) + center\n",
    "    pos_f_saver[s - 1] = [x,y,z,α,β,γ] \n",
    "    \n",
    "    t0 = time.time()\n",
    "    v_deformed = pos_f.deformer(handle_vertex_positions)\n",
    "    p.update_object(vertices = v_deformed) # p is a global variable, defined later\n",
    "    t1 = time.time()\n",
    "    print('FPS', 1/(t1 - t0))\n",
    "pos_f.deformer = lambda x:x"
   ]
  },
  {
   "cell_type": "code",
   "execution_count": 4,
   "id": "stone-element",
   "metadata": {},
   "outputs": [],
   "source": [
    "def widgets_wrapper():\n",
    "    segment_widget = iw.Dropdown(options=np.arange(labels.max()) + 1)\n",
    "    translate_widget = {i:iw.FloatSlider(min=-1, max=1, value=0) \n",
    "                        for i in 'xyz'}\n",
    "    rotate_widget = {a:iw.FloatSlider(min=-90, max=90, value=0, step=1) \n",
    "                     for a in 'αβγ'}\n",
    "\n",
    "    def update_seg(*args):\n",
    "        (translate_widget['x'].value,translate_widget['y'].value,\n",
    "        translate_widget['z'].value,\n",
    "        rotate_widget['α'].value,rotate_widget['β'].value,\n",
    "        rotate_widget['γ'].value) = pos_f_saver[segment_widget.value-1] #一个动画同步函数？\n",
    "    segment_widget.observe(update_seg, 'value')\n",
    "    widgets_dict = dict(s=segment_widget)\n",
    "    widgets_dict.update(translate_widget)\n",
    "    widgets_dict.update(rotate_widget)\n",
    "    return widgets_dict"
   ]
  },
  {
   "cell_type": "markdown",
   "id": "dce9a0f9",
   "metadata": {},
   "source": [
    "# My functions 1: for re-computation"
   ]
  },
  {
   "cell_type": "code",
   "execution_count": 5,
   "id": "divine-variety",
   "metadata": {},
   "outputs": [],
   "source": [
    "# generate mask for deformation\n",
    "def generate_mask(v, f, labels):\n",
    "    hard_id = np.where(labels != 0)\n",
    "    major_mask = np.ones(labels.shape[0], dtype=bool)\n",
    "    major_mask[hard_id] = False\n",
    "    constraint_mask = np.zeros(labels.shape[0], dtype=bool)\n",
    "    constraint_mask[hard_id] = True\n",
    "    return major_mask, constraint_mask\n",
    "\n",
    "def generate_factor(W):\n",
    "    LHS_op = -1 * W[major_mask][:,major_mask]\n",
    "    factor = sksparse.cholmod.cholesky(LHS_op)\n",
    "    return factor\n",
    "\n",
    "\n",
    "def factor_RHS(W):\n",
    "    R_op = []\n",
    "    v_op = []\n",
    "    \n",
    "    for i in range(v_num):\n",
    "        dataR = []\n",
    "        iiR = []\n",
    "        jjR = []\n",
    "        datav = []\n",
    "        iiv = []\n",
    "        jjv = []\n",
    "        count = 0\n",
    "        \n",
    "        for j in adj_list[i]:\n",
    "            dataR.append(W[i,j]); iiR.append(count); jjR.append(i)\n",
    "            dataR.append(W[i,j]); iiR.append(count); jjR.append(j)\n",
    "            datav.append(1); iiv.append(count); jjv.append(i)\n",
    "            datav.append(-1); iiv.append(count); jjv.append(j)\n",
    "            count += 1\n",
    "            \n",
    "        R_op_i = sp.coo_matrix((dataR, (iiR, jjR)), shape=(count, v_num)).asformat(\"csr\")\n",
    "        v_op_i = sp.coo_matrix((datav, (iiv, jjv)), shape=(count, v_num)).asformat(\"csr\")\n",
    "        R_op.append(R_op_i)\n",
    "        v_op.append(v_op_i)\n",
    "\n",
    "    return R_op, v_op"
   ]
  },
  {
   "cell_type": "markdown",
   "id": "5d6a695d",
   "metadata": {},
   "source": [
    "# Pre-computation"
   ]
  },
  {
   "cell_type": "code",
   "execution_count": 6,
   "id": "6c8174cb",
   "metadata": {},
   "outputs": [],
   "source": [
    "# Precomputation\n",
    "major_mask, constraint_mask = generate_mask(v,f,labels)\n",
    "major_v = v[major_mask,:]\n",
    "constraint_v = v[constraint_mask,:] \n",
    "\n",
    "adj_list = igl.adjacency_list(f)\n",
    "v_num = v.shape[0]\n",
    "\n",
    "cotM = igl.cotmatrix(v, f)\n",
    "uniM = cotM.copy()\n",
    "for a in range(v_num):\n",
    "    uniM[a,a] = len(adj_list[a]) * -1\n",
    "    for b in adj_list[a]:\n",
    "        uniM[a,b] = 1\n",
    "        \n",
    "factor = generate_factor(cotM)\n",
    "R_op, v_op = factor_RHS(cotM)"
   ]
  },
  {
   "cell_type": "markdown",
   "id": "daa4b857",
   "metadata": {},
   "source": [
    "# My functions 2: for major iterations"
   ]
  },
  {
   "cell_type": "code",
   "execution_count": 7,
   "id": "ef24b29b",
   "metadata": {},
   "outputs": [],
   "source": [
    "def get_rotation(v_origin, v_target, W):\n",
    "    R = np.zeros([v_num,3,3])\n",
    "    for i in range(v_num):\n",
    "        # 3 x #v\n",
    "        P = (v_origin[adj_list[i]] - v_origin[i]).T\n",
    "        # 3 x #v \n",
    "        P_d = (v_target[adj_list[i]] - v_target[i]).T\n",
    "        D_array = W[i][:,adj_list[i]].toarray()\n",
    "        D = np.diag(D_array[0])\n",
    "        \n",
    "        S = P @ D @ P_d.T\n",
    "                \n",
    "        U, Sigma, VT = np.linalg.svd(S, full_matrices=False)\n",
    "        R[i] = VT.T@U.T\n",
    "        \n",
    "        if np.linalg.det(R[i]) < 0:\n",
    "            R[i][:,-1] = -1 * R[i][:,-1]\n",
    "    return R\n",
    "\n",
    "def update_v(v_origin, v_target, W, R):\n",
    "    LHS_op_0 = -1 * W\n",
    "    \n",
    "    RHS_0 = np.zeros([v_num, 3])\n",
    "    for i in range(v_num):\n",
    "        vector = np.zeros([3])\n",
    "        v_diff = v_op[i]@v\n",
    "        for j in range(len(adj_list[i])):\n",
    "            vector += np.inner((R_op[i][j,i]*R[i]+R_op[i][j,j]), v_diff[j])\n",
    "        RHS_0[i] = vector\n",
    "        \n",
    "    LHS_op = LHS_op_0[major_mask][:,major_mask]\n",
    "    RHS = RHS_0[major_mask] - LHS_op_0[major_mask][:,constraint_mask]@v_target[constraint_mask]\n",
    "    \n",
    "    v_result = v_target.copy()\n",
    "    v_result[major_mask] = factor(RHS)\n",
    "    return v_result\n",
    "\n",
    "@jit(forceobj=True, looplift=True)\n",
    "def major_loop(v, v_move):\n",
    "    error = 1\n",
    "    count = 0\n",
    "    v_current = v_move\n",
    "    while((error>1e-3 and count <10)):\n",
    "        count +=1\n",
    "        \n",
    "        R0 = get_rotation(v, v_current, cotM)        \n",
    "        \n",
    "        v_new = update_v(v, v_current, cotM, R0)\n",
    "        \n",
    "        error = np.linalg.norm(np.mean(v_new - v_current, axis = 0))\n",
    "        v_current = v_new\n",
    "        print(count, error)\n",
    "    return v_new"
   ]
  },
  {
   "cell_type": "markdown",
   "id": "c130ee81",
   "metadata": {},
   "source": [
    "# Realtime function"
   ]
  },
  {
   "cell_type": "code",
   "execution_count": 8,
   "id": "2cf4d5cf",
   "metadata": {},
   "outputs": [],
   "source": [
    "@jit(forceobj=True, looplift=True)\n",
    "def position_deformer(target_pos):\n",
    "    \n",
    "    \n",
    "    \n",
    "    v_result = major_loop(v, target_pos)\n",
    "    return v_result\n",
    "\n",
    "\n",
    "pos_f.deformer = position_deformer\n"
   ]
  },
  {
   "cell_type": "code",
   "execution_count": 9,
   "id": "proprietary-prediction",
   "metadata": {},
   "outputs": [],
   "source": [
    "## Widget UI\n",
    "# p = mp.plot(handle_vertex_positions, f, c=labels)\n",
    "# iw.interact(pos_f,\n",
    "#             **widgets_wrapper())"
   ]
  },
  {
   "cell_type": "code",
   "execution_count": 10,
   "id": "41db0c6d",
   "metadata": {},
   "outputs": [
    {
     "name": "stdout",
     "output_type": "stream",
     "text": [
      "1 0.0037606137365301597\n",
      "2 0.0003462430443525275\n"
     ]
    },
    {
     "data": {
      "application/vnd.jupyter.widget-view+json": {
       "model_id": "97a66a7ec3954db5a261d2a5f1fe2b58",
       "version_major": 2,
       "version_minor": 0
      },
      "text/plain": [
       "Renderer(camera=PerspectiveCamera(children=(DirectionalLight(color='white', intensity=0.6, position=(0.3522619…"
      ]
     },
     "metadata": {},
     "output_type": "display_data"
    },
    {
     "data": {
      "text/plain": [
       "True"
      ]
     },
     "execution_count": 10,
     "metadata": {},
     "output_type": "execute_result"
    }
   ],
   "source": [
    "v_new, f_new = igl.read_triangle_mesh('data/bone_ditto.obj')\n",
    "\n",
    "v_result = position_deformer(v_new)\n",
    "\n",
    "mp.plot(v_result, c = labels, shading={\"point_size\": 0.1})\n",
    "\n",
    "igl.write_triangle_mesh(\"data/bone_result_arap.obj\", v_result, f_new)"
   ]
  },
  {
   "cell_type": "code",
   "execution_count": 11,
   "id": "70f48a02",
   "metadata": {},
   "outputs": [
    {
     "data": {
      "application/vnd.jupyter.widget-view+json": {
       "model_id": "3aed7717868e448d993d42decd2fcd8e",
       "version_major": 2,
       "version_minor": 0
      },
      "text/plain": [
       "Renderer(camera=PerspectiveCamera(children=(DirectionalLight(color='white', intensity=0.6, position=(0.3522619…"
      ]
     },
     "metadata": {},
     "output_type": "display_data"
    },
    {
     "data": {
      "text/plain": [
       "<meshplot.Viewer.Viewer at 0x13d74cf10>"
      ]
     },
     "execution_count": 11,
     "metadata": {},
     "output_type": "execute_result"
    }
   ],
   "source": [
    "mp.plot(v_result, f, c = labels, shading={\"point_size\": 0.1})\n"
   ]
  },
  {
   "cell_type": "code",
   "execution_count": null,
   "id": "bdd5463d",
   "metadata": {},
   "outputs": [],
   "source": []
  }
 ],
 "metadata": {
  "kernelspec": {
   "display_name": "Python 3 (ipykernel)",
   "language": "python",
   "name": "python3"
  },
  "language_info": {
   "codemirror_mode": {
    "name": "ipython",
    "version": 3
   },
   "file_extension": ".py",
   "mimetype": "text/x-python",
   "name": "python",
   "nbconvert_exporter": "python",
   "pygments_lexer": "ipython3",
   "version": "3.9.21"
  }
 },
 "nbformat": 4,
 "nbformat_minor": 5
}
