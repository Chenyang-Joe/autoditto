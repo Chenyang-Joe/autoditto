{
 "cells": [
  {
   "cell_type": "code",
   "execution_count": 1,
   "id": "e5b87834-1088-449d-a8ea-5769751e48c4",
   "metadata": {},
   "outputs": [],
   "source": [
    "import numpy as np\n",
    "import igl\n",
    "import meshplot as mp\n",
    "import random\n",
    "import copy\n",
    "import math"
   ]
  },
  {
   "cell_type": "code",
   "execution_count": 2,
   "id": "7168401b-ff6d-4482-ba67-14dc28ec8689",
   "metadata": {},
   "outputs": [
    {
     "name": "stderr",
     "output_type": "stream",
     "text": [
      "Warning: readOBJ() ignored non-comment line 4:\n",
      "  o bone\n"
     ]
    }
   ],
   "source": [
    "# import model + display it\n",
    "v, f = igl.read_triangle_mesh('data/bone_rotate.obj')"
   ]
  },
  {
   "cell_type": "code",
   "execution_count": 3,
   "id": "58ac87b6-2c18-43e6-a144-ac45b65f3f32",
   "metadata": {},
   "outputs": [
    {
     "data": {
      "text/plain": [
       "True"
      ]
     },
     "execution_count": 3,
     "metadata": {},
     "output_type": "execute_result"
    }
   ],
   "source": [
    "v -= v.min(axis=0)\n",
    "v /= v.max()\n",
    "igl.write_triangle_mesh(\"data/bone_unify.obj\", v, f)"
   ]
  },
  {
   "cell_type": "code",
   "execution_count": 4,
   "id": "8371ea3c-464e-4130-992d-f39645981007",
   "metadata": {},
   "outputs": [
    {
     "data": {
      "application/vnd.jupyter.widget-view+json": {
       "model_id": "8a63473d77bc49629a4d79ad740bcd54",
       "version_major": 2,
       "version_minor": 0
      },
      "text/plain": [
       "Renderer(camera=PerspectiveCamera(children=(DirectionalLight(color='white', intensity=0.6, position=(0.3522619…"
      ]
     },
     "metadata": {},
     "output_type": "display_data"
    },
    {
     "data": {
      "text/plain": [
       "<meshplot.Viewer.Viewer at 0x128b26a60>"
      ]
     },
     "execution_count": 4,
     "metadata": {},
     "output_type": "execute_result"
    }
   ],
   "source": [
    "mp.plot(v, shading={\"point_size\": 0.03})"
   ]
  },
  {
   "cell_type": "code",
   "execution_count": 5,
   "id": "9baf4297-9eb8-454c-aa47-fb5f6aa7e342",
   "metadata": {},
   "outputs": [
    {
     "data": {
      "application/vnd.jupyter.widget-view+json": {
       "model_id": "629f753d0e114013ac626dbde981d6f2",
       "version_major": 2,
       "version_minor": 0
      },
      "text/plain": [
       "Renderer(camera=PerspectiveCamera(children=(DirectionalLight(color='white', intensity=0.6, position=(0.3522619…"
      ]
     },
     "metadata": {},
     "output_type": "display_data"
    },
    {
     "data": {
      "text/plain": [
       "2"
      ]
     },
     "execution_count": 5,
     "metadata": {},
     "output_type": "execute_result"
    }
   ],
   "source": [
    "# find the bounding box, draw the bounding box\n",
    "m = np.min(v, axis=0)\n",
    "ma = np.max(v, axis=0)\n",
    "\n",
    "# Corners of the bounding box\n",
    "v_box = np.array([[m[0], m[1], m[2]], [ma[0], m[1], m[2]], [ma[0], ma[1], m[2]], [m[0], ma[1], m[2]],\n",
    "                  [m[0], m[1], ma[2]], [ma[0], m[1], ma[2]], [ma[0], ma[1], ma[2]], [m[0], ma[1], ma[2]]])\n",
    "\n",
    "# Edges of the bounding box\n",
    "f_box = np.array([[0, 1], [1, 2], [2, 3], [3, 0], [4, 5], [5, 6], [6, 7], \n",
    "                  [7, 4], [0, 4], [1, 5], [2, 6], [7, 3]], dtype=np.int32)\n",
    "\n",
    "p = mp.plot(v, shading={\"point_size\": 0.03})\n",
    "\n",
    "\n",
    "\n",
    "p.add_edges(v_box, f_box, shading={\"line_color\": \"green\"});\n",
    "p.add_points(v_box, shading={\"point_size\": 0.1, \"point_color\": \"green\"})"
   ]
  },
  {
   "cell_type": "code",
   "execution_count": 6,
   "id": "61302ce4-383a-4885-9776-0f08a136662b",
   "metadata": {},
   "outputs": [],
   "source": [
    "# segments_recording = np.zeros(len(v), dtype=int)\n",
    "\n",
    "# for i in range(len(v)):\n",
    "#     item = v[i]\n",
    "#     if item[1]< 0.5 :\n",
    "#         segments_recording[i] = 1\n",
    "        \n",
    "# mp.plot(v, c = segments_recording, shading={\"point_size\": 0.03})"
   ]
  },
  {
   "cell_type": "code",
   "execution_count": 7,
   "id": "b7b00ad7-2321-4177-b8db-9c176c043e5d",
   "metadata": {},
   "outputs": [],
   "source": [
    "Face_0 = np.array([0,1,2,3])\n",
    "Face_1 = np.array([4,5,6,7])\n",
    "Face_2 = np.array([0,1,5,4])\n",
    "Face_3 = np.array([1,2,5,6])\n",
    "Face_4 = np.array([2,3,6,7])\n",
    "Face_5 = np.array([0,3,7,4])"
   ]
  },
  {
   "cell_type": "code",
   "execution_count": 8,
   "id": "05687a43-e519-4b3a-bea7-3cbfbbe515a8",
   "metadata": {},
   "outputs": [
    {
     "data": {
      "application/vnd.jupyter.widget-view+json": {
       "model_id": "933a946b306041ccb38a2653c948649f",
       "version_major": 2,
       "version_minor": 0
      },
      "text/plain": [
       "Renderer(camera=PerspectiveCamera(children=(DirectionalLight(color='white', intensity=0.6, position=(0.3522619…"
      ]
     },
     "metadata": {},
     "output_type": "display_data"
    },
    {
     "data": {
      "text/plain": [
       "4"
      ]
     },
     "execution_count": 8,
     "metadata": {},
     "output_type": "execute_result"
    }
   ],
   "source": [
    "# a function, given face, v_box, return the selected center and radius\n",
    "\n",
    "\n",
    "def find_circle(v_box, face):\n",
    "    face_vs = v_box[face]\n",
    "    print\n",
    "    m_f = np.min(face_vs, axis=0)\n",
    "    ma_f = np.max(face_vs, axis=0)\n",
    "\n",
    "\n",
    "    center = np.zeros(3)\n",
    "    radius = 1e+10\n",
    "    direction = np.zeros(3)\n",
    "    axis = 0\n",
    "    for i in range(3):\n",
    "        if m_f[i] == ma_f[i]:\n",
    "            center[i] = (ma_f[i]+m_f[i])/2\n",
    "            if center[i] > 0.5:\n",
    "                direction[i] = - 1\n",
    "            else:\n",
    "                direction[i] = 1\n",
    "            axis = i\n",
    "        else:\n",
    "            jiggle_1 = (random.random()-0.5)/10\n",
    "            center[i] = (ma_f[i]+m_f[i])/2 + jiggle_1\n",
    "            r1 = center[i] - m_f[i]\n",
    "            r2 = ma_f[i] - center[i]\n",
    "            jiggle_2 = random.random()/50\n",
    "            radius = min(radius, min(r1, r2)) - jiggle_2 - 0.05\n",
    "\n",
    "        \n",
    "    return center, radius, direction, axis\n",
    "\n",
    "\n",
    "def generate_circle_3d(center, radius, direction, num_points=100):\n",
    "    direction = np.array(direction)\n",
    "    direction = direction / np.linalg.norm(direction)  # normalize\n",
    "\n",
    "    # Find two orthogonal vectors perpendicular to direction\n",
    "    if np.allclose(direction, [0, 0, 1]):\n",
    "        v1 = np.array([1, 0, 0])\n",
    "    else:\n",
    "        v1 = np.cross(direction, [0, 0, 1])\n",
    "        v1 = v1 / np.linalg.norm(v1)\n",
    "    \n",
    "    v2 = np.cross(direction, v1)\n",
    "    \n",
    "    angles = np.linspace(0, 2 * np.pi, num_points, endpoint=False)\n",
    "    circle_points = [\n",
    "        center + radius * (np.cos(theta) * v1 + np.sin(theta) * v2)\n",
    "        for theta in angles\n",
    "    ]\n",
    "    return np.array(circle_points)\n",
    "\n",
    "center, radius, direction, axis = find_circle(v_box, Face_0)\n",
    "\n",
    "\n",
    "p = mp.plot(v, shading={\"point_size\": 0.03})\n",
    "p.add_edges(v_box, f_box, shading={\"line_color\": \"green\"});\n",
    "p.add_points(v_box, shading={\"point_size\": 0.1, \"point_color\": \"green\"})\n",
    "p.add_points(points=np.array([center]), shading={\"point_size\": 0.1, \"point_color\": \"green\"})\n",
    "\n",
    "circle_points = generate_circle_3d(center, radius, direction, num_points=100)\n",
    "p.add_points(circle_points, shading={\"point_size\": 0.1, \"point_color\": \"green\"})\n"
   ]
  },
  {
   "cell_type": "code",
   "execution_count": 9,
   "id": "21716c29-8e7e-4d34-aef4-52ba5b671e24",
   "metadata": {},
   "outputs": [
    {
     "data": {
      "application/vnd.jupyter.widget-view+json": {
       "model_id": "78721607681a433f9b077961de0ef53d",
       "version_major": 2,
       "version_minor": 0
      },
      "text/plain": [
       "Renderer(camera=PerspectiveCamera(children=(DirectionalLight(color='white', intensity=0.6, position=(0.3522619…"
      ]
     },
     "metadata": {},
     "output_type": "display_data"
    },
    {
     "data": {
      "text/plain": [
       "1"
      ]
     },
     "execution_count": 9,
     "metadata": {},
     "output_type": "execute_result"
    }
   ],
   "source": [
    "# a function, given center, radius, direction, return an array of points to occupy the circle\n",
    "\n",
    "def circle_points(center, radius, direction, axis, resolution = 10):\n",
    "    current_axis = 0\n",
    "    circle_range = np.zeros((2, resolution))\n",
    "    for i in range(3):\n",
    "        if i != axis:\n",
    "            circle_range[current_axis] = np.linspace(center[current_axis]-radius, center[current_axis]+radius, resolution)\n",
    "        current_axis += 1\n",
    "\n",
    "    result = []\n",
    "    for cord_0 in circle_range[0]:\n",
    "        for cord_1 in circle_range[1]:\n",
    "            cord = np.array([cord_0, cord_1])\n",
    "            cord = np.insert(cord, axis, 0)\n",
    "            if np.linalg.norm(cord - center) < radius:\n",
    "                result.append(cord)\n",
    "    return np.array(result)\n",
    "                \n",
    "\n",
    "        \n",
    "points = circle_points(center, radius, direction, axis, 100)\n",
    "p = mp.plot(v, f,shading={\"point_size\": 0.03})\n",
    "p.add_points(points, shading={\"point_size\": 0.01, \"point_color\": \"green\"})\n",
    "\n"
   ]
  },
  {
   "cell_type": "code",
   "execution_count": 10,
   "id": "93087682-5097-4b67-9c92-78cfb621f2c4",
   "metadata": {},
   "outputs": [
    {
     "data": {
      "application/vnd.jupyter.widget-view+json": {
       "model_id": "f8e391fe3c624d5d9644ac11df951ec1",
       "version_major": 2,
       "version_minor": 0
      },
      "text/plain": [
       "Renderer(camera=PerspectiveCamera(children=(DirectionalLight(color='white', intensity=0.6, position=(0.3522619…"
      ]
     },
     "metadata": {},
     "output_type": "display_data"
    }
   ],
   "source": [
    "p = mp.plot(v, f)\n",
    "\n",
    "points = circle_points(center, radius, direction, axis, 20)\n",
    "p.add_points(points, shading={\"point_size\": 0.01, \"point_color\": \"green\"})\n",
    "\n",
    "\n",
    "f_projected = set()\n",
    "for point in points:\n",
    "    point_cp = copy.deepcopy(point)\n",
    "    result = igl.ray_mesh_intersect(point_cp, direction, v, f)\n",
    "    if len(result) != 0:\n",
    "        p.add_points(np.array([point_cp+direction*result[0][-1]]), shading={\"point_size\": 0.1, \"point_color\": \"green\"})\n",
    "        new_f = result[0][0]\n",
    "        if new_f not in f_projected:\n",
    "            f_projected.add(new_f)\n",
    "\n",
    "# print(f_projected)\n"
   ]
  },
  {
   "cell_type": "code",
   "execution_count": 11,
   "id": "54d27d88-0092-450d-bc75-3612f8f052f2",
   "metadata": {},
   "outputs": [
    {
     "name": "stdout",
     "output_type": "stream",
     "text": [
      "380\n",
      "620\n",
      "814\n",
      "981\n",
      "1154\n",
      "1321\n",
      "1502\n",
      "1706\n",
      "1894\n",
      "2093\n"
     ]
    }
   ],
   "source": [
    "TT, TTi = igl.triangle_triangle_adjacency(f)\n",
    "\n",
    "def expand_faces(TT, f_projected):\n",
    "    new_f_projected = set()\n",
    "\n",
    "    for face in f_projected:\n",
    "        for adj_face in TT[face]:\n",
    "            if adj_face not in new_f_projected:\n",
    "                new_f_projected.add(adj_face)\n",
    "    f_projected = f_projected.union(new_f_projected)\n",
    "    return f_projected\n",
    "\n",
    "for i in range(10):\n",
    "    f_projected = expand_faces(TT, f_projected)\n",
    "    print(len(f_projected))"
   ]
  },
  {
   "cell_type": "code",
   "execution_count": 12,
   "id": "ccd30f82-5cd3-4751-a9fb-6cc28c9cf633",
   "metadata": {},
   "outputs": [
    {
     "name": "stdout",
     "output_type": "stream",
     "text": [
      "Selected face indices: [[0.7 0.7 0.7]\n",
      " [0.7 0.7 0.7]\n",
      " [0.7 0.7 0.7]\n",
      " ...\n",
      " [0.7 0.7 0.7]\n",
      " [0.7 0.7 0.7]\n",
      " [0.7 0.7 0.7]]\n"
     ]
    },
    {
     "data": {
      "application/vnd.jupyter.widget-view+json": {
       "model_id": "d72d6c880743410b818d9dbd9e6914b6",
       "version_major": 2,
       "version_minor": 0
      },
      "text/plain": [
       "Renderer(camera=PerspectiveCamera(children=(DirectionalLight(color='white', intensity=0.6, position=(0.3522619…"
      ]
     },
     "metadata": {},
     "output_type": "display_data"
    },
    {
     "data": {
      "text/plain": [
       "<meshplot.Viewer.Viewer at 0x128b9b5b0>"
      ]
     },
     "execution_count": 12,
     "metadata": {},
     "output_type": "execute_result"
    }
   ],
   "source": [
    "def color_faces(v, f, f_set):\n",
    "    colors = np.tile(np.array([0.7, 0.7, 0.7]), (f.shape[0], 1)).astype(np.float32)\n",
    "    indices = np.fromiter(f_set, dtype=int)\n",
    "    colors[indices] = np.array([0.0, 0.0, 1.0])\n",
    "    print(\"Selected face indices:\", colors)\n",
    "\n",
    "    return mp.plot(v, f, c = colors)\n",
    "\n",
    "\n",
    "color_faces(v, f, f_projected)"
   ]
  },
  {
   "cell_type": "code",
   "execution_count": 13,
   "id": "1cb3c620-d14d-4de0-91d6-ab932460fc30",
   "metadata": {},
   "outputs": [
    {
     "data": {
      "application/vnd.jupyter.widget-view+json": {
       "model_id": "c1ece9c250b44d768839058cd324a02b",
       "version_major": 2,
       "version_minor": 0
      },
      "text/plain": [
       "Renderer(camera=PerspectiveCamera(children=(DirectionalLight(color='white', intensity=0.6, position=(0.3522619…"
      ]
     },
     "metadata": {},
     "output_type": "display_data"
    },
    {
     "data": {
      "text/plain": [
       "<meshplot.Viewer.Viewer at 0x128b9bc40>"
      ]
     },
     "execution_count": 13,
     "metadata": {},
     "output_type": "execute_result"
    }
   ],
   "source": [
    "segments_recording = np.ones(len(v), dtype=int)\n",
    "\n",
    "for i in f_projected:\n",
    "    for j in f[i]:\n",
    "        segments_recording[j] = 0\n",
    "\n",
    "mp.plot(v, c = segments_recording, shading={\"point_size\": 0.03})"
   ]
  },
  {
   "cell_type": "code",
   "execution_count": 14,
   "id": "08d5e60a-ac12-4597-9f03-1f61136a22d5",
   "metadata": {},
   "outputs": [],
   "source": [
    "# random select\n",
    "# f_handle = random.sample(list(f_projected), 1)\n",
    "\n",
    "# for i in f_handle:\n",
    "#     segments_recording[f[i][0]] = 2\n",
    "\n",
    "\n",
    "# mp.plot(v, c = segments_recording, shading={\"point_size\": 0.1})"
   ]
  },
  {
   "cell_type": "code",
   "execution_count": null,
   "id": "5826e3ae-940d-4dc0-adb2-4cf09e4658e8",
   "metadata": {},
   "outputs": [],
   "source": []
  },
  {
   "cell_type": "code",
   "execution_count": 15,
   "id": "06dc81d4-0a1a-405a-96d5-ad14e21f019b",
   "metadata": {},
   "outputs": [
    {
     "data": {
      "application/vnd.jupyter.widget-view+json": {
       "model_id": "ffe924d171e64276809e0c6b3290c498",
       "version_major": 2,
       "version_minor": 0
      },
      "text/plain": [
       "Renderer(camera=PerspectiveCamera(children=(DirectionalLight(color='white', intensity=0.6, position=(0.3522619…"
      ]
     },
     "metadata": {},
     "output_type": "display_data"
    },
    {
     "data": {
      "text/plain": [
       "<meshplot.Viewer.Viewer at 0x1291c1b80>"
      ]
     },
     "execution_count": 15,
     "metadata": {},
     "output_type": "execute_result"
    }
   ],
   "source": [
    "points_constraint_circle = circle_points(center, radius*1.3, direction, axis, 5)\n",
    "\n",
    "f_constraint_projected = set()\n",
    "for point in points_constraint_circle:\n",
    "    point_cp = copy.deepcopy(point)\n",
    "    result = igl.ray_mesh_intersect(point_cp, direction, v, f)\n",
    "    if len(result) != 0:\n",
    "        p.add_points(np.array([point_cp+direction*result[0][-1]]), shading={\"point_size\": 0.1, \"point_color\": \"green\"})\n",
    "        new_f = result[0][0]\n",
    "        if new_f not in f_constraint_projected:\n",
    "            f_constraint_projected.add(new_f)\n",
    "\n",
    "index_recording = []\n",
    "for i in f_constraint_projected:\n",
    "    segments_recording[f[i][0]] = 2\n",
    "    index_recording.append(f[i][0])\n",
    "\n",
    "mp.plot(v, c = segments_recording, shading={\"point_size\": 0.1})\n"
   ]
  },
  {
   "cell_type": "code",
   "execution_count": 16,
   "id": "84f9aac2-bdaa-402f-afe4-80637cafbbe4",
   "metadata": {},
   "outputs": [],
   "source": [
    "np.save('data/bone.label.npy', segments_recording)"
   ]
  },
  {
   "cell_type": "code",
   "execution_count": 17,
   "id": "e04ff84d-2a9c-4e59-9dac-6ef1f8bcd2c4",
   "metadata": {},
   "outputs": [
    {
     "data": {
      "application/vnd.jupyter.widget-view+json": {
       "model_id": "8bbd66a17feb4a4da0fa7964bbfe8e9b",
       "version_major": 2,
       "version_minor": 0
      },
      "text/plain": [
       "Renderer(camera=PerspectiveCamera(children=(DirectionalLight(color='white', intensity=0.6, position=(0.3522619…"
      ]
     },
     "metadata": {},
     "output_type": "display_data"
    },
    {
     "data": {
      "text/plain": [
       "<meshplot.Viewer.Viewer at 0x1291c1f40>"
      ]
     },
     "execution_count": 17,
     "metadata": {},
     "output_type": "execute_result"
    }
   ],
   "source": [
    "mp.plot(v, c = segments_recording, shading={\"point_size\": 0.1})\n"
   ]
  },
  {
   "cell_type": "code",
   "execution_count": 18,
   "id": "0dbe2ace-aed1-441e-b893-bc082aa545f7",
   "metadata": {},
   "outputs": [
    {
     "data": {
      "application/vnd.jupyter.widget-view+json": {
       "model_id": "6841dfd2ad524ee58069f8b45af42b7a",
       "version_major": 2,
       "version_minor": 0
      },
      "text/plain": [
       "Renderer(camera=PerspectiveCamera(children=(DirectionalLight(color='white', intensity=0.6, position=(0.3522619…"
      ]
     },
     "metadata": {},
     "output_type": "display_data"
    },
    {
     "data": {
      "text/plain": [
       "<meshplot.Viewer.Viewer at 0x12920e100>"
      ]
     },
     "execution_count": 18,
     "metadata": {},
     "output_type": "execute_result"
    }
   ],
   "source": [
    "# deform the class 2\n",
    "\n",
    "\n",
    "def deform_constraint(v, index_recording, direction, axis, center):\n",
    "    v_new = copy.deepcopy(v)\n",
    "\n",
    "    for i in index_recording:\n",
    "        cord = v_new[i]\n",
    "        dif = cord - center\n",
    "        dif[axis] = 0\n",
    "        factor = np.linalg.norm(cord - center)/0.5\n",
    "\n",
    "        \n",
    "        v_new[i] = v_new[i] + math.sqrt((- factor**2 +1.2))*0.15 * direction\n",
    "    return v_new\n",
    "\n",
    "v_new = deform_constraint(v, index_recording, direction, axis, center)\n",
    "\n",
    "mp.plot(v_new, c = segments_recording, shading={\"point_size\": 0.1})\n"
   ]
  },
  {
   "cell_type": "code",
   "execution_count": 19,
   "id": "f1b88997-65a7-40f1-abcc-7b76f98fdb9a",
   "metadata": {},
   "outputs": [
    {
     "data": {
      "text/plain": [
       "True"
      ]
     },
     "execution_count": 19,
     "metadata": {},
     "output_type": "execute_result"
    }
   ],
   "source": [
    "igl.write_triangle_mesh(\"data/bone_ditto.obj\", v_new, f)"
   ]
  },
  {
   "cell_type": "code",
   "execution_count": 20,
   "id": "bc53e042-3509-41e5-bb9d-bb4c37844f08",
   "metadata": {},
   "outputs": [
    {
     "name": "stdout",
     "output_type": "stream",
     "text": [
      "[2024, 2227, 12493, 2357, 12501, 7871, 12300, 7881, 7463]\n"
     ]
    }
   ],
   "source": [
    "print(index_recording)"
   ]
  },
  {
   "cell_type": "code",
   "execution_count": null,
   "id": "1135e77f-05b0-442e-b0e4-dcf31ad90361",
   "metadata": {},
   "outputs": [],
   "source": []
  }
 ],
 "metadata": {
  "kernelspec": {
   "display_name": "Python 3 (ipykernel)",
   "language": "python",
   "name": "python3"
  },
  "language_info": {
   "codemirror_mode": {
    "name": "ipython",
    "version": 3
   },
   "file_extension": ".py",
   "mimetype": "text/x-python",
   "name": "python",
   "nbconvert_exporter": "python",
   "pygments_lexer": "ipython3",
   "version": "3.9.21"
  }
 },
 "nbformat": 4,
 "nbformat_minor": 5
}
